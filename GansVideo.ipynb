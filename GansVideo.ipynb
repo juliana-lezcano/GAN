{
  "nbformat": 4,
  "nbformat_minor": 0,
  "metadata": {
    "colab": {
      "name": "GansVideo.ipynb",
      "provenance": [],
      "collapsed_sections": [],
      "include_colab_link": true
    },
    "kernelspec": {
      "name": "python3",
      "display_name": "Python 3"
    },
    "accelerator": "GPU"
  },
  "cells": [
    {
      "cell_type": "markdown",
      "metadata": {
        "id": "view-in-github",
        "colab_type": "text"
      },
      "source": [
        "<a href=\"https://colab.research.google.com/github/juliana-lezcano/GAN/blob/master/GansVideo.ipynb\" target=\"_parent\"><img src=\"https://colab.research.google.com/assets/colab-badge.svg\" alt=\"Open In Colab\"/></a>"
      ]
    },
    {
      "cell_type": "markdown",
      "metadata": {
        "id": "Gz6wRvFxLdqY",
        "colab_type": "text"
      },
      "source": [
        "#Generative adversarial network (GAN) and The style-based GAN architecture (StyleGAN)\n",
        "\n",
        "In this project  is being implemented an architecture Style Transfer GANs for images obtained from the video taken in a particular environment.\n",
        "\n",
        "Style transfer is the process of applying one texture (the Style image) to the content of another image (the Content image). "
      ]
    },
    {
      "cell_type": "markdown",
      "metadata": {
        "id": "ml04N83FROe-",
        "colab_type": "text"
      },
      "source": [
        "# Parameters\n",
        "\n",
        "Due to the size of the folders required in this work, a repository was created where the input magnets (1019) are located, which were obtained from the video as a duration equal to 10:27 min.\n",
        "\n",
        "The styles applied to the images will vary according to the context and they are all recognized works of art, with which a comparison of reality and the obetine result of this machine will be made.\n",
        "\n",
        "The following link is the repository created only for this project:\n",
        "\n",
        "https://github.com/juliana-lezcano/GAN\n",
        "\n",
        "This project was carried out with the help of the links shared in the work instructions and the information provided on the following page:\n",
        "\n",
        "https://github.com/dvschultz/neural-style-tf"
      ]
    },
    {
      "cell_type": "markdown",
      "metadata": {
        "id": "qYoRxMqUPCNW",
        "colab_type": "text"
      },
      "source": [
        "#Install Tensorflow"
      ]
    },
    {
      "cell_type": "code",
      "metadata": {
        "id": "1BMdAScclQVN",
        "colab_type": "code",
        "outputId": "9876f73b-863f-4adc-f4d1-03b1c9b879e5",
        "colab": {
          "base_uri": "https://localhost:8080/",
          "height": 51
        }
      },
      "source": [
        "#install TF 1.15 to avoid some annoying warning messages\n",
        "# Restart runtime using 'Runtime' -> 'Restart runtime...'\n",
        "%tensorflow_version 1.x\n",
        "import tensorflow as tf\n",
        "print(tf.__version__)"
      ],
      "execution_count": 1,
      "outputs": [
        {
          "output_type": "stream",
          "text": [
            "TensorFlow 1.x selected.\n",
            "1.15.2\n"
          ],
          "name": "stdout"
        }
      ]
    },
    {
      "cell_type": "markdown",
      "metadata": {
        "id": "Ec_j9q3XLtBE",
        "colab_type": "text"
      },
      "source": [
        "#Install library\n",
        "\n",
        "We’re going to work with the library called Neural Style."
      ]
    },
    {
      "cell_type": "code",
      "metadata": {
        "id": "mmjBZZLbLb-2",
        "colab_type": "code",
        "colab": {}
      },
      "source": [
        "#import some image display tools\n",
        "from IPython.display import Image, display\n",
        "#install the library in colab\n",
        "!git clone https://github.com/juliana-lezcano/GAN\n",
        "#change into that directory\n",
        "%cd GAN/\n",
        "#install the library dependencies (it's likely Colab already has them installed, but let's be sure)\n",
        "!pip install -r requirements.txt\n",
        "#install the VGG19 pre-trained model\n",
        "!wget http://www.vlfeat.org/matconvnet/models/imagenet-vgg-verydeep-19.mat"
      ],
      "execution_count": 0,
      "outputs": []
    },
    {
      "cell_type": "code",
      "metadata": {
        "id": "t3FTtdkSL_lV",
        "colab_type": "code",
        "outputId": "be403eec-e9f0-40df-fbbc-722f360a5a1d",
        "colab": {
          "base_uri": "https://localhost:8080/",
          "height": 34
        }
      },
      "source": [
        "#let's make sure we're in the right folder\n",
        "!pwd\n",
        "# we should see \"/content/neural-style-tf\""
      ],
      "execution_count": 4,
      "outputs": [
        {
          "output_type": "stream",
          "text": [
            "/content/GAN\n"
          ],
          "name": "stdout"
        }
      ]
    },
    {
      "cell_type": "markdown",
      "metadata": {
        "id": "Fo4znFOlNyig",
        "colab_type": "text"
      },
      "source": [
        "# Basic Style Transfer\n",
        "To make sure everything is working as expected, let’s run a basic style transfer using the images this library already provides.\n",
        "\n",
        "First, let’s look at the folder setup. To the left of this text, click on the right pointing caret/arrow. That opens the Table of contents for this notebook. Click on the `Files` tab. This is a view of our \"server.\" click on the arrow/twirley next to 'neural-style-tf'. Then do the same for the 'image_input' and 'styles' folders. These two folders map to the Content (`image_input`) and Style ('styles') images. I’m going to pick the lion from the content folder and the kandinsky from the styles folder.\n",
        "\n",
        "There are two arguments required for the basic `neural_style.py` script:\n",
        "\n",
        "\n",
        "* '--content_img': the content image filename plus extension\n",
        "*  '--style_imgs': the style image filename plus extension\n",
        "\n",
        "\n"
      ]
    },
    {
      "cell_type": "code",
      "metadata": {
        "id": "ld0p1SkgN2MN",
        "colab_type": "code",
        "outputId": "5292e036-1c76-449f-9757-71ab9fe9e98a",
        "colab": {
          "base_uri": "https://localhost:8080/",
          "height": 1000
        }
      },
      "source": [
        "!python neural_style.py --content_img frame0.jpg --style_imgs Monet.jpg --max_size 256 --max_iterations 5000"
      ],
      "execution_count": 70,
      "outputs": [
        {
          "output_type": "stream",
          "text": [
            "\n",
            "---- RENDERING SINGLE IMAGE ----\n",
            "\n",
            "WARNING:tensorflow:From neural_style.py:558: The name tf.Session is deprecated. Please use tf.compat.v1.Session instead.\n",
            "\n",
            "2020-06-10 03:25:05.983804: I tensorflow/stream_executor/platform/default/dso_loader.cc:44] Successfully opened dynamic library libcuda.so.1\n",
            "2020-06-10 03:25:06.001083: I tensorflow/stream_executor/cuda/cuda_gpu_executor.cc:983] successful NUMA node read from SysFS had negative value (-1), but there must be at least one NUMA node, so returning NUMA node zero\n",
            "2020-06-10 03:25:06.001659: I tensorflow/core/common_runtime/gpu/gpu_device.cc:1639] Found device 0 with properties: \n",
            "name: Tesla P100-PCIE-16GB major: 6 minor: 0 memoryClockRate(GHz): 1.3285\n",
            "pciBusID: 0000:00:04.0\n",
            "2020-06-10 03:25:06.001944: I tensorflow/stream_executor/platform/default/dso_loader.cc:44] Successfully opened dynamic library libcudart.so.10.1\n",
            "2020-06-10 03:25:06.003377: I tensorflow/stream_executor/platform/default/dso_loader.cc:44] Successfully opened dynamic library libcublas.so.10\n",
            "2020-06-10 03:25:06.004856: I tensorflow/stream_executor/platform/default/dso_loader.cc:44] Successfully opened dynamic library libcufft.so.10\n",
            "2020-06-10 03:25:06.005176: I tensorflow/stream_executor/platform/default/dso_loader.cc:44] Successfully opened dynamic library libcurand.so.10\n",
            "2020-06-10 03:25:06.006670: I tensorflow/stream_executor/platform/default/dso_loader.cc:44] Successfully opened dynamic library libcusolver.so.10\n",
            "2020-06-10 03:25:06.007810: I tensorflow/stream_executor/platform/default/dso_loader.cc:44] Successfully opened dynamic library libcusparse.so.10\n",
            "2020-06-10 03:25:06.011427: I tensorflow/stream_executor/platform/default/dso_loader.cc:44] Successfully opened dynamic library libcudnn.so.7\n",
            "2020-06-10 03:25:06.011539: I tensorflow/stream_executor/cuda/cuda_gpu_executor.cc:983] successful NUMA node read from SysFS had negative value (-1), but there must be at least one NUMA node, so returning NUMA node zero\n",
            "2020-06-10 03:25:06.012319: I tensorflow/stream_executor/cuda/cuda_gpu_executor.cc:983] successful NUMA node read from SysFS had negative value (-1), but there must be at least one NUMA node, so returning NUMA node zero\n",
            "2020-06-10 03:25:06.012897: I tensorflow/core/common_runtime/gpu/gpu_device.cc:1767] Adding visible gpu devices: 0\n",
            "2020-06-10 03:25:06.013291: I tensorflow/core/platform/cpu_feature_guard.cc:142] Your CPU supports instructions that this TensorFlow binary was not compiled to use: AVX512F\n",
            "2020-06-10 03:25:06.018609: I tensorflow/core/platform/profile_utils/cpu_utils.cc:94] CPU Frequency: 2000170000 Hz\n",
            "2020-06-10 03:25:06.018804: I tensorflow/compiler/xla/service/service.cc:168] XLA service 0x301ea00 initialized for platform Host (this does not guarantee that XLA will be used). Devices:\n",
            "2020-06-10 03:25:06.018834: I tensorflow/compiler/xla/service/service.cc:176]   StreamExecutor device (0): Host, Default Version\n",
            "2020-06-10 03:25:06.105383: I tensorflow/stream_executor/cuda/cuda_gpu_executor.cc:983] successful NUMA node read from SysFS had negative value (-1), but there must be at least one NUMA node, so returning NUMA node zero\n",
            "2020-06-10 03:25:06.106049: I tensorflow/compiler/xla/service/service.cc:168] XLA service 0x301ebc0 initialized for platform CUDA (this does not guarantee that XLA will be used). Devices:\n",
            "2020-06-10 03:25:06.106077: I tensorflow/compiler/xla/service/service.cc:176]   StreamExecutor device (0): Tesla P100-PCIE-16GB, Compute Capability 6.0\n",
            "2020-06-10 03:25:06.106243: I tensorflow/stream_executor/cuda/cuda_gpu_executor.cc:983] successful NUMA node read from SysFS had negative value (-1), but there must be at least one NUMA node, so returning NUMA node zero\n",
            "2020-06-10 03:25:06.106756: I tensorflow/core/common_runtime/gpu/gpu_device.cc:1639] Found device 0 with properties: \n",
            "name: Tesla P100-PCIE-16GB major: 6 minor: 0 memoryClockRate(GHz): 1.3285\n",
            "pciBusID: 0000:00:04.0\n",
            "2020-06-10 03:25:06.106811: I tensorflow/stream_executor/platform/default/dso_loader.cc:44] Successfully opened dynamic library libcudart.so.10.1\n",
            "2020-06-10 03:25:06.106835: I tensorflow/stream_executor/platform/default/dso_loader.cc:44] Successfully opened dynamic library libcublas.so.10\n",
            "2020-06-10 03:25:06.106887: I tensorflow/stream_executor/platform/default/dso_loader.cc:44] Successfully opened dynamic library libcufft.so.10\n",
            "2020-06-10 03:25:06.106907: I tensorflow/stream_executor/platform/default/dso_loader.cc:44] Successfully opened dynamic library libcurand.so.10\n",
            "2020-06-10 03:25:06.106926: I tensorflow/stream_executor/platform/default/dso_loader.cc:44] Successfully opened dynamic library libcusolver.so.10\n",
            "2020-06-10 03:25:06.106943: I tensorflow/stream_executor/platform/default/dso_loader.cc:44] Successfully opened dynamic library libcusparse.so.10\n",
            "2020-06-10 03:25:06.106962: I tensorflow/stream_executor/platform/default/dso_loader.cc:44] Successfully opened dynamic library libcudnn.so.7\n",
            "2020-06-10 03:25:06.107028: I tensorflow/stream_executor/cuda/cuda_gpu_executor.cc:983] successful NUMA node read from SysFS had negative value (-1), but there must be at least one NUMA node, so returning NUMA node zero\n",
            "2020-06-10 03:25:06.107632: I tensorflow/stream_executor/cuda/cuda_gpu_executor.cc:983] successful NUMA node read from SysFS had negative value (-1), but there must be at least one NUMA node, so returning NUMA node zero\n",
            "2020-06-10 03:25:06.108171: I tensorflow/core/common_runtime/gpu/gpu_device.cc:1767] Adding visible gpu devices: 0\n",
            "2020-06-10 03:25:06.108314: I tensorflow/stream_executor/platform/default/dso_loader.cc:44] Successfully opened dynamic library libcudart.so.10.1\n",
            "2020-06-10 03:25:06.109344: I tensorflow/core/common_runtime/gpu/gpu_device.cc:1180] Device interconnect StreamExecutor with strength 1 edge matrix:\n",
            "2020-06-10 03:25:06.109370: I tensorflow/core/common_runtime/gpu/gpu_device.cc:1186]      0 \n",
            "2020-06-10 03:25:06.109380: I tensorflow/core/common_runtime/gpu/gpu_device.cc:1199] 0:   N \n",
            "2020-06-10 03:25:06.109483: I tensorflow/stream_executor/cuda/cuda_gpu_executor.cc:983] successful NUMA node read from SysFS had negative value (-1), but there must be at least one NUMA node, so returning NUMA node zero\n",
            "2020-06-10 03:25:06.110040: I tensorflow/stream_executor/cuda/cuda_gpu_executor.cc:983] successful NUMA node read from SysFS had negative value (-1), but there must be at least one NUMA node, so returning NUMA node zero\n",
            "2020-06-10 03:25:06.110558: W tensorflow/core/common_runtime/gpu/gpu_bfc_allocator.cc:39] Overriding allow_growth setting because the TF_FORCE_GPU_ALLOW_GROWTH environment variable is set. Original config value was 0.\n",
            "2020-06-10 03:25:06.110598: I tensorflow/core/common_runtime/gpu/gpu_device.cc:1325] Created TensorFlow device (/job:localhost/replica:0/task:0/device:GPU:0 with 15216 MB memory) -> physical GPU (device: 0, name: Tesla P100-PCIE-16GB, pci bus id: 0000:00:04.0, compute capability: 6.0)\n",
            "WARNING:tensorflow:From neural_style.py:333: The name tf.nn.avg_pool is deprecated. Please use tf.nn.avg_pool2d instead.\n",
            "\n",
            "2020-06-10 03:25:10.652030: I tensorflow/stream_executor/platform/default/dso_loader.cc:44] Successfully opened dynamic library libcudnn.so.7\n",
            "2020-06-10 03:25:11.656067: I tensorflow/stream_executor/platform/default/dso_loader.cc:44] Successfully opened dynamic library libcublas.so.10\n",
            "WARNING:tensorflow:\n",
            "The TensorFlow contrib module will not be included in TensorFlow 2.0.\n",
            "For more information, please see:\n",
            "  * https://github.com/tensorflow/community/blob/master/rfcs/20180907-contrib-sunset.md\n",
            "  * https://github.com/tensorflow/addons\n",
            "  * https://github.com/tensorflow/io (for I/O related ops)\n",
            "If you depend on functionality not listed there, please file an issue.\n",
            "\n",
            "WARNING:tensorflow:From /tensorflow-1.15.2/python3.6/tensorflow_core/python/ops/math_grad.py:1375: where (from tensorflow.python.ops.array_ops) is deprecated and will be removed in a future version.\n",
            "Instructions for updating:\n",
            "Use tf.where in 2.0, which has the same broadcast rule as np.where\n",
            "WARNING:tensorflow:From neural_style.py:610: The name tf.global_variables_initializer is deprecated. Please use tf.compat.v1.global_variables_initializer instead.\n",
            "\n",
            "Single image elapsed time: 208.2885880470276\n"
          ],
          "name": "stdout"
        }
      ]
    },
    {
      "cell_type": "code",
      "metadata": {
        "id": "xGeMTBeSP5GO",
        "colab_type": "code",
        "colab": {}
      },
      "source": [
        "from IPython.display import Image, display\n",
        "listOfImageNames = ['image_output/5000/content.png',\n",
        "                    'image_output/5000/style_0.png',\n",
        "                    'image_output/5000/image_output-5000.png']\n",
        "\n",
        "for imageName in listOfImageNames:\n",
        "    display(Image(filename=imageName))"
      ],
      "execution_count": 0,
      "outputs": []
    },
    {
      "cell_type": "markdown",
      "metadata": {
        "id": "zHPQH7Z8hscj",
        "colab_type": "text"
      },
      "source": [
        "#Iterations\n",
        "Escribir"
      ]
    },
    {
      "cell_type": "code",
      "metadata": {
        "id": "oJqRvPONg_Vr",
        "colab_type": "code",
        "colab": {}
      },
      "source": [
        "#evenly weighted style images\n",
        "!python neural_style.py --content_img frame871.jpg --style_imgs  VVG.jpg --max_size 256 --max_iterations 500 --style_imgs_weights 0.4 0.4 "
      ],
      "execution_count": 0,
      "outputs": []
    },
    {
      "cell_type": "code",
      "metadata": {
        "id": "PWrrzPNo5HQc",
        "colab_type": "code",
        "colab": {}
      },
      "source": [
        "#evenly weighted style images\n",
        "!python neural_style.py --content_img frame895.jpg --style_imgs  Monet2.jpg --max_size 256 --max_iterations 500 --style_imgs_weights 0.4 0.4 "
      ],
      "execution_count": 0,
      "outputs": []
    },
    {
      "cell_type": "code",
      "metadata": {
        "id": "9U_Aalrd5NWr",
        "colab_type": "code",
        "colab": {}
      },
      "source": [
        "#evenly weighted style images\n",
        "!python neural_style.py --content_img frame898.jpg --style_imgs  Munch.jpg --max_size 256 --max_iterations 500 --style_imgs_weights 0.4 0.4 "
      ],
      "execution_count": 0,
      "outputs": []
    },
    {
      "cell_type": "code",
      "metadata": {
        "id": "W4mTNep55L8t",
        "colab_type": "code",
        "colab": {}
      },
      "source": [
        "#evenly weighted style images\n",
        "!python neural_style.py --content_img frame907.jpg --style_imgs  VVG2.jpg --max_size 256 --max_iterations 500 --style_imgs_weights 0.4 0.4 "
      ],
      "execution_count": 0,
      "outputs": []
    },
    {
      "cell_type": "code",
      "metadata": {
        "id": "8M1ofcRH5M1x",
        "colab_type": "code",
        "colab": {}
      },
      "source": [
        "#evenly weighted style images\n",
        "!python neural_style.py --content_img frame917.jpg --style_imgs  Munch2.jpg --max_size 256 --max_iterations 500 --style_imgs_weights 0.4 0.4 "
      ],
      "execution_count": 0,
      "outputs": []
    },
    {
      "cell_type": "code",
      "metadata": {
        "id": "Yh8kE55C5MfX",
        "colab_type": "code",
        "colab": {}
      },
      "source": [
        "#evenly weighted style images\n",
        "!python neural_style.py --content_img frame955.jpg --style_imgs  Monet3.jpg --max_size 256 --max_iterations 500 --style_imgs_weights 0.4 0.4 "
      ],
      "execution_count": 0,
      "outputs": []
    },
    {
      "cell_type": "code",
      "metadata": {
        "id": "RAQPtp6g5ORO",
        "colab_type": "code",
        "colab": {}
      },
      "source": [
        "#evenly weighted style images\n",
        "!python neural_style.py --content_img frame858.jpg --style_imgs  Monet.jpg --max_size 256 --max_iterations 500 --style_imgs_weights 0.4 0.4 "
      ],
      "execution_count": 0,
      "outputs": []
    }
  ]
}